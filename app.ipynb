{
 "cells": [
  {
   "cell_type": "code",
   "execution_count": 9,
   "id": "f8c27137-e3a0-4483-864e-63754f273492",
   "metadata": {},
   "outputs": [],
   "source": [
    "import numpy as np\n",
    "from flask import Flask, request, render_template\n",
    "import pickle"
   ]
  },
  {
   "cell_type": "code",
   "execution_count": 11,
   "id": "e53c7150-597c-41d8-b760-1177edc4d88c",
   "metadata": {},
   "outputs": [],
   "source": [
    "app = Flask(__name__)\n",
    "\n",
    "path = r'C:\\Users\\psiri\\Desktop\\OptiCrop\\\\'\n",
    "model = pickle.load(open(path + 'model.pkl','rb'))"
   ]
  },
  {
   "cell_type": "code",
   "execution_count": 13,
   "id": "b8aac550-9f16-461d-b97a-5f355a79f76d",
   "metadata": {},
   "outputs": [],
   "source": [
    "@app.route('/')\n",
    "\n",
    "def home():\n",
    "    return render_template('home.html')\n",
    "\n",
    "@app.route('/about')\n",
    "def about():\n",
    "    return render_template('about.html')\n",
    "\n",
    "@app.route('/findyourcrop')\n",
    "def findyourcrop():\n",
    "    return render_template('findyourcrop.html')"
   ]
  },
  {
   "cell_type": "code",
   "execution_count": 15,
   "id": "4c62eaaa-abb4-4fb0-90c4-83c8bfb16e75",
   "metadata": {},
   "outputs": [],
   "source": [
    "@app.route('/predict', methods = ['POST'])\n",
    "def predict():\n",
    "    int_features = [float(x) for x in request.form.values()]\n",
    "    features = [np.array(int_features)]\n",
    "    prediction = model.predict(features)\n",
    "    output = prediction [0]\n",
    "    return render_template('findyourcrop.html',prediction_text='Best crop for given conditions is {}'.format(output))"
   ]
  },
  {
   "cell_type": "code",
   "execution_count": null,
   "id": "2dfdee07-572b-4d80-a4c1-4515f13697d0",
   "metadata": {},
   "outputs": [
    {
     "name": "stdout",
     "output_type": "stream",
     "text": [
      " * Serving Flask app '__main__'\n",
      " * Debug mode: on\n"
     ]
    },
    {
     "name": "stderr",
     "output_type": "stream",
     "text": [
      "WARNING: This is a development server. Do not use it in a production deployment. Use a production WSGI server instead.\n",
      " * Running on http://127.0.0.1:5000\n",
      "Press CTRL+C to quit\n",
      "127.0.0.1 - - [16/Jun/2025 13:54:46] \"GET / HTTP/1.1\" 200 -\n",
      "127.0.0.1 - - [16/Jun/2025 13:54:46] \"GET /favicon.ico HTTP/1.1\" 404 -\n",
      "127.0.0.1 - - [16/Jun/2025 13:54:50] \"GET /about HTTP/1.1\" 200 -\n",
      "127.0.0.1 - - [16/Jun/2025 13:54:52] \"GET /findyourcrop HTTP/1.1\" 200 -\n",
      "C:\\Users\\psiri\\anaconda3\\Lib\\site-packages\\sklearn\\base.py:464: UserWarning: X does not have valid feature names, but LogisticRegression was fitted with feature names\n",
      "  warnings.warn(\n",
      "127.0.0.1 - - [16/Jun/2025 13:55:07] \"POST /predict HTTP/1.1\" 200 -\n",
      "127.0.0.1 - - [16/Jun/2025 14:06:51] \"GET / HTTP/1.1\" 200 -\n",
      "127.0.0.1 - - [16/Jun/2025 14:06:52] \"GET /favicon.ico HTTP/1.1\" 404 -\n",
      "127.0.0.1 - - [16/Jun/2025 14:06:56] \"GET /about HTTP/1.1\" 200 -\n",
      "127.0.0.1 - - [16/Jun/2025 14:06:57] \"GET /findyourcrop HTTP/1.1\" 200 -\n",
      "127.0.0.1 - - [16/Jun/2025 14:07:19] \"GET /findyourcrop HTTP/1.1\" 200 -\n",
      "127.0.0.1 - - [16/Jun/2025 14:07:22] \"GET / HTTP/1.1\" 200 -\n",
      "127.0.0.1 - - [16/Jun/2025 14:09:45] \"GET / HTTP/1.1\" 200 -\n"
     ]
    }
   ],
   "source": [
    "if __name__ == \"__main__\":\n",
    "    app.run(debug = True, use_reloader = False)"
   ]
  },
  {
   "cell_type": "code",
   "execution_count": null,
   "id": "b8fb0fda-307c-4227-ba27-e2ce170a825e",
   "metadata": {},
   "outputs": [],
   "source": []
  }
 ],
 "metadata": {
  "kernelspec": {
   "display_name": "Python 3 (ipykernel)",
   "language": "python",
   "name": "python3"
  },
  "language_info": {
   "codemirror_mode": {
    "name": "ipython",
    "version": 3
   },
   "file_extension": ".py",
   "mimetype": "text/x-python",
   "name": "python",
   "nbconvert_exporter": "python",
   "pygments_lexer": "ipython3",
   "version": "3.11.4"
  }
 },
 "nbformat": 4,
 "nbformat_minor": 5
}
